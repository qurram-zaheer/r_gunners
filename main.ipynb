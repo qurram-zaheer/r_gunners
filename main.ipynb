{
 "cells": [
  {
   "cell_type": "code",
   "execution_count": 24,
   "source": [
    "import praw\n",
    "import pandas as pd\n",
    "import numpy as np\n",
    "import matplotlib.pyplot as plt\n",
    "import time"
   ],
   "outputs": [],
   "metadata": {}
  },
  {
   "cell_type": "code",
   "execution_count": 2,
   "source": [
    "reddit=praw.Reddit('bot1')"
   ],
   "outputs": [],
   "metadata": {}
  },
  {
   "cell_type": "code",
   "execution_count": 3,
   "source": [
    "subreddit=reddit.subreddit('gunners')"
   ],
   "outputs": [],
   "metadata": {}
  },
  {
   "cell_type": "code",
   "execution_count": 34,
   "source": [
    "start=time.time()\n",
    "comments_dump = []\n",
    "i=0\n",
    "for post in subreddit.new(limit=1000):\n",
    "    for comment in post.comments.list():\n",
    "        try:\n",
    "            comments_dump.append((comment.author.name,comment.body,comment.score,comment.created_utc))\n",
    "        except:\n",
    "            pass\n",
    "    i+=1\n",
    "    if i%100==0:\n",
    "        print('Completed {}/1000'.format(str(i/100)))\n",
    "end=time.time()\n",
    "time_elapsed=end-start\n"
   ],
   "outputs": [
    {
     "output_type": "stream",
     "name": "stdout",
     "text": [
      "Completed 1.0/1000\n",
      "Completed 2.0/1000\n",
      "Completed 3.0/1000\n",
      "Completed 4.0/1000\n",
      "Completed 5.0/1000\n",
      "Completed 6.0/1000\n",
      "Completed 7.0/1000\n",
      "Completed 8.0/1000\n",
      "Completed 9.0/1000\n"
     ]
    }
   ],
   "metadata": {}
  },
  {
   "cell_type": "code",
   "execution_count": 36,
   "source": [
    "comments_df=pd.DataFrame(comments_dump)\n",
    "comments_df.to_csv('jul13_aug3.csv')"
   ],
   "outputs": [],
   "metadata": {}
  },
  {
   "cell_type": "code",
   "execution_count": 37,
   "source": [
    "comments_df.shape"
   ],
   "outputs": [
    {
     "output_type": "execute_result",
     "data": {
      "text/plain": [
       "(82005, 4)"
      ]
     },
     "metadata": {},
     "execution_count": 37
    }
   ],
   "metadata": {}
  },
  {
   "cell_type": "code",
   "execution_count": 38,
   "source": [
    "comments_df.columns=['author','body','score','timestamp']"
   ],
   "outputs": [],
   "metadata": {}
  },
  {
   "cell_type": "code",
   "execution_count": 52,
   "source": [
    "counts=comments_df['author'].value_counts().to_frame()\n",
    "counts.reset_index(inplace=True)\n",
    "counts.columns=['author','num_comments']\n",
    "# print(type(counts))\n",
    "counts.head()"
   ],
   "outputs": [
    {
     "output_type": "execute_result",
     "data": {
      "text/plain": [
       "               author  num_comments\n",
       "0  ReturnOfBenjenRyan           761\n",
       "1      varro-reatinus           700\n",
       "2       NemoDropEmOff           597\n",
       "3           OlisaFifa           565\n",
       "4        NiallMitch10           488"
      ],
      "text/html": [
       "<div>\n",
       "<style scoped>\n",
       "    .dataframe tbody tr th:only-of-type {\n",
       "        vertical-align: middle;\n",
       "    }\n",
       "\n",
       "    .dataframe tbody tr th {\n",
       "        vertical-align: top;\n",
       "    }\n",
       "\n",
       "    .dataframe thead th {\n",
       "        text-align: right;\n",
       "    }\n",
       "</style>\n",
       "<table border=\"1\" class=\"dataframe\">\n",
       "  <thead>\n",
       "    <tr style=\"text-align: right;\">\n",
       "      <th></th>\n",
       "      <th>author</th>\n",
       "      <th>num_comments</th>\n",
       "    </tr>\n",
       "  </thead>\n",
       "  <tbody>\n",
       "    <tr>\n",
       "      <th>0</th>\n",
       "      <td>ReturnOfBenjenRyan</td>\n",
       "      <td>761</td>\n",
       "    </tr>\n",
       "    <tr>\n",
       "      <th>1</th>\n",
       "      <td>varro-reatinus</td>\n",
       "      <td>700</td>\n",
       "    </tr>\n",
       "    <tr>\n",
       "      <th>2</th>\n",
       "      <td>NemoDropEmOff</td>\n",
       "      <td>597</td>\n",
       "    </tr>\n",
       "    <tr>\n",
       "      <th>3</th>\n",
       "      <td>OlisaFifa</td>\n",
       "      <td>565</td>\n",
       "    </tr>\n",
       "    <tr>\n",
       "      <th>4</th>\n",
       "      <td>NiallMitch10</td>\n",
       "      <td>488</td>\n",
       "    </tr>\n",
       "  </tbody>\n",
       "</table>\n",
       "</div>"
      ]
     },
     "metadata": {},
     "execution_count": 52
    }
   ],
   "metadata": {}
  },
  {
   "cell_type": "code",
   "execution_count": 56,
   "source": [
    "dfv2=comments_df.groupby('author').mean().merge(counts, how='left', on='author')\n",
    "worst_karma=dfv2[dfv2['num_comments']>10].sort_values('score')\n",
    "worst_karma.head()"
   ],
   "outputs": [
    {
     "output_type": "execute_result",
     "data": {
      "text/plain": [
       "                    author      score     timestamp  num_comments\n",
       "5977               geistmg -29.071429  1.627680e+09            14\n",
       "3973  TetrisTennisTriangle -13.343750  1.626543e+09            32\n",
       "3181            PiggBodine  -4.190476  1.627298e+09            21\n",
       "1731             HKAGooner  -4.050000  1.626956e+09            20\n",
       "5627         doablewarrior  -3.750000  1.627183e+09            16"
      ],
      "text/html": [
       "<div>\n",
       "<style scoped>\n",
       "    .dataframe tbody tr th:only-of-type {\n",
       "        vertical-align: middle;\n",
       "    }\n",
       "\n",
       "    .dataframe tbody tr th {\n",
       "        vertical-align: top;\n",
       "    }\n",
       "\n",
       "    .dataframe thead th {\n",
       "        text-align: right;\n",
       "    }\n",
       "</style>\n",
       "<table border=\"1\" class=\"dataframe\">\n",
       "  <thead>\n",
       "    <tr style=\"text-align: right;\">\n",
       "      <th></th>\n",
       "      <th>author</th>\n",
       "      <th>score</th>\n",
       "      <th>timestamp</th>\n",
       "      <th>num_comments</th>\n",
       "    </tr>\n",
       "  </thead>\n",
       "  <tbody>\n",
       "    <tr>\n",
       "      <th>5977</th>\n",
       "      <td>geistmg</td>\n",
       "      <td>-29.071429</td>\n",
       "      <td>1.627680e+09</td>\n",
       "      <td>14</td>\n",
       "    </tr>\n",
       "    <tr>\n",
       "      <th>3973</th>\n",
       "      <td>TetrisTennisTriangle</td>\n",
       "      <td>-13.343750</td>\n",
       "      <td>1.626543e+09</td>\n",
       "      <td>32</td>\n",
       "    </tr>\n",
       "    <tr>\n",
       "      <th>3181</th>\n",
       "      <td>PiggBodine</td>\n",
       "      <td>-4.190476</td>\n",
       "      <td>1.627298e+09</td>\n",
       "      <td>21</td>\n",
       "    </tr>\n",
       "    <tr>\n",
       "      <th>1731</th>\n",
       "      <td>HKAGooner</td>\n",
       "      <td>-4.050000</td>\n",
       "      <td>1.626956e+09</td>\n",
       "      <td>20</td>\n",
       "    </tr>\n",
       "    <tr>\n",
       "      <th>5627</th>\n",
       "      <td>doablewarrior</td>\n",
       "      <td>-3.750000</td>\n",
       "      <td>1.627183e+09</td>\n",
       "      <td>16</td>\n",
       "    </tr>\n",
       "  </tbody>\n",
       "</table>\n",
       "</div>"
      ]
     },
     "metadata": {},
     "execution_count": 56
    }
   ],
   "metadata": {}
  },
  {
   "cell_type": "code",
   "execution_count": 57,
   "source": [
    "comments_df.groupby('author').sum().sort_values('score')"
   ],
   "outputs": [
    {
     "output_type": "execute_result",
     "data": {
      "text/plain": [
       "                      score     timestamp\n",
       "author                                   \n",
       "TetrisTennisTriangle   -427  5.204937e+10\n",
       "geistmg                -407  2.278752e+10\n",
       "basadodepartamiento    -165  1.562125e+11\n",
       "Astronomy_Major        -162  3.252732e+09\n",
       "benchgregor            -139  1.626425e+10\n",
       "...                     ...           ...\n",
       "OlisaFifa              8188  9.195203e+11\n",
       "Echo361                8690  6.053075e+11\n",
       "basedsims              8724  4.588156e+11\n",
       "varro-reatinus         9228  1.139006e+12\n",
       "NiallMitch10           9971  7.939524e+11\n",
       "\n",
       "[8659 rows x 2 columns]"
      ],
      "text/html": [
       "<div>\n",
       "<style scoped>\n",
       "    .dataframe tbody tr th:only-of-type {\n",
       "        vertical-align: middle;\n",
       "    }\n",
       "\n",
       "    .dataframe tbody tr th {\n",
       "        vertical-align: top;\n",
       "    }\n",
       "\n",
       "    .dataframe thead th {\n",
       "        text-align: right;\n",
       "    }\n",
       "</style>\n",
       "<table border=\"1\" class=\"dataframe\">\n",
       "  <thead>\n",
       "    <tr style=\"text-align: right;\">\n",
       "      <th></th>\n",
       "      <th>score</th>\n",
       "      <th>timestamp</th>\n",
       "    </tr>\n",
       "    <tr>\n",
       "      <th>author</th>\n",
       "      <th></th>\n",
       "      <th></th>\n",
       "    </tr>\n",
       "  </thead>\n",
       "  <tbody>\n",
       "    <tr>\n",
       "      <th>TetrisTennisTriangle</th>\n",
       "      <td>-427</td>\n",
       "      <td>5.204937e+10</td>\n",
       "    </tr>\n",
       "    <tr>\n",
       "      <th>geistmg</th>\n",
       "      <td>-407</td>\n",
       "      <td>2.278752e+10</td>\n",
       "    </tr>\n",
       "    <tr>\n",
       "      <th>basadodepartamiento</th>\n",
       "      <td>-165</td>\n",
       "      <td>1.562125e+11</td>\n",
       "    </tr>\n",
       "    <tr>\n",
       "      <th>Astronomy_Major</th>\n",
       "      <td>-162</td>\n",
       "      <td>3.252732e+09</td>\n",
       "    </tr>\n",
       "    <tr>\n",
       "      <th>benchgregor</th>\n",
       "      <td>-139</td>\n",
       "      <td>1.626425e+10</td>\n",
       "    </tr>\n",
       "    <tr>\n",
       "      <th>...</th>\n",
       "      <td>...</td>\n",
       "      <td>...</td>\n",
       "    </tr>\n",
       "    <tr>\n",
       "      <th>OlisaFifa</th>\n",
       "      <td>8188</td>\n",
       "      <td>9.195203e+11</td>\n",
       "    </tr>\n",
       "    <tr>\n",
       "      <th>Echo361</th>\n",
       "      <td>8690</td>\n",
       "      <td>6.053075e+11</td>\n",
       "    </tr>\n",
       "    <tr>\n",
       "      <th>basedsims</th>\n",
       "      <td>8724</td>\n",
       "      <td>4.588156e+11</td>\n",
       "    </tr>\n",
       "    <tr>\n",
       "      <th>varro-reatinus</th>\n",
       "      <td>9228</td>\n",
       "      <td>1.139006e+12</td>\n",
       "    </tr>\n",
       "    <tr>\n",
       "      <th>NiallMitch10</th>\n",
       "      <td>9971</td>\n",
       "      <td>7.939524e+11</td>\n",
       "    </tr>\n",
       "  </tbody>\n",
       "</table>\n",
       "<p>8659 rows × 2 columns</p>\n",
       "</div>"
      ]
     },
     "metadata": {},
     "execution_count": 57
    }
   ],
   "metadata": {}
  },
  {
   "cell_type": "code",
   "execution_count": null,
   "source": [
    "# Compare karma for positive and negative comments\n",
    "# Compare above based on timestamp\n",
    "# Find out the time interval with most comments"
   ],
   "outputs": [],
   "metadata": {}
  }
 ],
 "metadata": {
  "orig_nbformat": 4,
  "language_info": {
   "name": "python",
   "version": "3.9.6",
   "mimetype": "text/x-python",
   "codemirror_mode": {
    "name": "ipython",
    "version": 3
   },
   "pygments_lexer": "ipython3",
   "nbconvert_exporter": "python",
   "file_extension": ".py"
  },
  "kernelspec": {
   "name": "python3",
   "display_name": "Python 3.9.6 64-bit ('stats': virtualenvwrapper)"
  },
  "interpreter": {
   "hash": "d5cfb6a101d764fc39cddac6b442a3cb9753a67507c57fbc5dd5d5eea956f263"
  }
 },
 "nbformat": 4,
 "nbformat_minor": 2
}